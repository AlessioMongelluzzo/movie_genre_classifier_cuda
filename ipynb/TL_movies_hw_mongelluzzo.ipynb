{
 "cells": [
  {
   "cell_type": "markdown",
   "id": "38fe0eca",
   "metadata": {},
   "source": [
    "# Movie Classifier\n",
    "movie genre classifier based on title and description."
   ]
  },
  {
   "cell_type": "markdown",
   "id": "59284a16",
   "metadata": {},
   "source": [
    "## 1) Load Libraries and Data"
   ]
  },
  {
   "cell_type": "code",
   "execution_count": 1,
   "id": "77cab9e1",
   "metadata": {},
   "outputs": [
    {
     "name": "stdout",
     "output_type": "stream",
     "text": [
      "[PhysicalDevice(name='/physical_device:CPU:0', device_type='CPU'), PhysicalDevice(name='/physical_device:GPU:0', device_type='GPU')]\n"
     ]
    }
   ],
   "source": [
    "import pandas as pd\n",
    "import numpy as np\n",
    "import os\n",
    "import tensorflow as tf\n",
    "print(tf.config.list_physical_devices())\n",
    "import matplotlib.pyplot as plt\n",
    "pd.set_option('display.max_columns', None)\n",
    "from tqdm import tqdm\n",
    "import time\n",
    "from  ast import literal_eval\n",
    "import pickle"
   ]
  },
  {
   "cell_type": "code",
   "execution_count": 2,
   "id": "1555a14f",
   "metadata": {},
   "outputs": [],
   "source": [
    "data_folder = \"../data/archive/\"\n",
    "\n",
    "aux_folder = \"./aux/\"\n",
    "if not os.path.exists(aux_folder):\n",
    "    os.makedirs(aux_folder)"
   ]
  },
  {
   "cell_type": "code",
   "execution_count": 3,
   "id": "77ea3bb9",
   "metadata": {},
   "outputs": [],
   "source": [
    "metadata_file = \"movies_metadata.csv\"\n",
    "keywords_file = \"keywords.csv\"\n",
    "credits_file = \"credits.csv\""
   ]
  },
  {
   "cell_type": "code",
   "execution_count": 4,
   "id": "41d23f6d",
   "metadata": {},
   "outputs": [],
   "source": [
    "seed = 42"
   ]
  },
  {
   "cell_type": "code",
   "execution_count": 5,
   "id": "393d7716",
   "metadata": {},
   "outputs": [],
   "source": [
    "class DataLoader():\n",
    "    \"\"\"\n",
    "    aux data loader wrapper class\n",
    "    \"\"\"\n",
    "    def __init__(self, metadata_file, keywords_file, credits_file):\n",
    "        \"\"\"\n",
    "        loads csv datasets\n",
    "        \"\"\"\n",
    "        self.metadata_ds = pd.read_csv(os.path.join(data_folder, metadata_file), low_memory=False)\n",
    "        # shuffle\n",
    "        self.metadata_ds = self.metadata_ds.sample(frac = 1, random_state=seed)\n",
    "        # reset index\n",
    "        self.metadata_ds.reset_index(drop = True, inplace= True)\n",
    "        print(\"metadata ds shape:\\t{}\".format(self.metadata_ds.shape))\n",
    "        \n",
    "        self.keywords_ds = pd.read_csv(os.path.join(data_folder, keywords_file), low_memory=False)\n",
    "        # shuffle\n",
    "        self.keywords_ds = self.keywords_ds.sample(frac = 1, random_state=seed)\n",
    "        # reset index\n",
    "        self.keywords_ds.reset_index(drop = True, inplace= True)\n",
    "        print(\"keywords ds shape:\\t{}\".format(self.keywords_ds.shape))\n",
    "        \n",
    "        self.credits_ds = pd.read_csv(os.path.join(data_folder, credits_file), low_memory=False)\n",
    "        # shuffle\n",
    "        self.credits_ds = self.credits_ds.sample(frac = 1, random_state=seed)\n",
    "        # reset index\n",
    "        self.credits_ds.reset_index(drop = True, inplace= True)\n",
    "        print(\"credits ds shape:\\t{}\".format(self.credits_ds.shape))"
   ]
  },
  {
   "cell_type": "code",
   "execution_count": 6,
   "id": "52eeba17",
   "metadata": {},
   "outputs": [
    {
     "name": "stdout",
     "output_type": "stream",
     "text": [
      "metadata ds shape:\t(45466, 24)\n",
      "keywords ds shape:\t(46419, 2)\n",
      "credits ds shape:\t(45476, 3)\n"
     ]
    }
   ],
   "source": [
    "dl = DataLoader(metadata_file, keywords_file, credits_file)"
   ]
  },
  {
   "cell_type": "markdown",
   "id": "6af5a681",
   "metadata": {},
   "source": [
    "## 2) E.D.A.\n",
    "Explore data"
   ]
  },
  {
   "cell_type": "code",
   "execution_count": 7,
   "id": "d129fe21",
   "metadata": {
    "scrolled": true
   },
   "outputs": [
    {
     "data": {
      "text/html": [
       "<div>\n",
       "<style scoped>\n",
       "    .dataframe tbody tr th:only-of-type {\n",
       "        vertical-align: middle;\n",
       "    }\n",
       "\n",
       "    .dataframe tbody tr th {\n",
       "        vertical-align: top;\n",
       "    }\n",
       "\n",
       "    .dataframe thead th {\n",
       "        text-align: right;\n",
       "    }\n",
       "</style>\n",
       "<table border=\"1\" class=\"dataframe\">\n",
       "  <thead>\n",
       "    <tr style=\"text-align: right;\">\n",
       "      <th></th>\n",
       "      <th>adult</th>\n",
       "      <th>belongs_to_collection</th>\n",
       "      <th>budget</th>\n",
       "      <th>genres</th>\n",
       "      <th>homepage</th>\n",
       "      <th>id</th>\n",
       "      <th>imdb_id</th>\n",
       "      <th>original_language</th>\n",
       "      <th>original_title</th>\n",
       "      <th>overview</th>\n",
       "      <th>popularity</th>\n",
       "      <th>poster_path</th>\n",
       "      <th>production_companies</th>\n",
       "      <th>production_countries</th>\n",
       "      <th>release_date</th>\n",
       "      <th>revenue</th>\n",
       "      <th>runtime</th>\n",
       "      <th>spoken_languages</th>\n",
       "      <th>status</th>\n",
       "      <th>tagline</th>\n",
       "      <th>title</th>\n",
       "      <th>video</th>\n",
       "      <th>vote_average</th>\n",
       "      <th>vote_count</th>\n",
       "    </tr>\n",
       "  </thead>\n",
       "  <tbody>\n",
       "    <tr>\n",
       "      <th>0</th>\n",
       "      <td>False</td>\n",
       "      <td>NaN</td>\n",
       "      <td>0</td>\n",
       "      <td>[{'id': 18, 'name': 'Drama'}, {'id': 35, 'name...</td>\n",
       "      <td>https://www.netflix.com/title/80164212</td>\n",
       "      <td>411405</td>\n",
       "      <td>tt5717492</td>\n",
       "      <td>en</td>\n",
       "      <td>Small Crimes</td>\n",
       "      <td>A disgraced former cop, fresh off a six-year p...</td>\n",
       "      <td>7.219022</td>\n",
       "      <td>/z7jmLmrs0pLlDU4GI6ItaJeqlET.jpg</td>\n",
       "      <td>[{'name': 'Rooks Nest Entertainment', 'id': 34...</td>\n",
       "      <td>[{'iso_3166_1': 'CA', 'name': 'Canada'}, {'iso...</td>\n",
       "      <td>2017-04-28</td>\n",
       "      <td>0.0</td>\n",
       "      <td>95.0</td>\n",
       "      <td>[{'iso_639_1': 'en', 'name': 'English'}, {'iso...</td>\n",
       "      <td>Released</td>\n",
       "      <td>NaN</td>\n",
       "      <td>Small Crimes</td>\n",
       "      <td>False</td>\n",
       "      <td>5.8</td>\n",
       "      <td>55.0</td>\n",
       "    </tr>\n",
       "    <tr>\n",
       "      <th>1</th>\n",
       "      <td>False</td>\n",
       "      <td>NaN</td>\n",
       "      <td>0</td>\n",
       "      <td>[{'id': 18, 'name': 'Drama'}, {'id': 35, 'name...</td>\n",
       "      <td>NaN</td>\n",
       "      <td>42492</td>\n",
       "      <td>tt0069449</td>\n",
       "      <td>en</td>\n",
       "      <td>Up the Sandbox</td>\n",
       "      <td>A young wife and mother, bored with day-to-day...</td>\n",
       "      <td>0.13845</td>\n",
       "      <td>/zwOmdqvPObv9EsMgne7EBYzPYGW.jpg</td>\n",
       "      <td>[{'name': 'Barwood Films', 'id': 3645}, {'name...</td>\n",
       "      <td>[{'iso_3166_1': 'US', 'name': 'United States o...</td>\n",
       "      <td>1972-12-21</td>\n",
       "      <td>0.0</td>\n",
       "      <td>97.0</td>\n",
       "      <td>[{'iso_639_1': 'en', 'name': 'English'}]</td>\n",
       "      <td>Released</td>\n",
       "      <td>NaN</td>\n",
       "      <td>Up the Sandbox</td>\n",
       "      <td>False</td>\n",
       "      <td>7.3</td>\n",
       "      <td>2.0</td>\n",
       "    </tr>\n",
       "    <tr>\n",
       "      <th>2</th>\n",
       "      <td>False</td>\n",
       "      <td>NaN</td>\n",
       "      <td>1000000</td>\n",
       "      <td>[{'id': 80, 'name': 'Crime'}, {'id': 18, 'name...</td>\n",
       "      <td>NaN</td>\n",
       "      <td>12143</td>\n",
       "      <td>tt0103759</td>\n",
       "      <td>en</td>\n",
       "      <td>Bad Lieutenant</td>\n",
       "      <td>While investigating a young nun's rape, a corr...</td>\n",
       "      <td>6.417037</td>\n",
       "      <td>/oe8VjWCKXktqA19T1ZWtaSn8rc2.jpg</td>\n",
       "      <td>[{'name': 'Bad Lt. Productions', 'id': 11264}]</td>\n",
       "      <td>[{'iso_3166_1': 'US', 'name': 'United States o...</td>\n",
       "      <td>1992-09-16</td>\n",
       "      <td>2019469.0</td>\n",
       "      <td>96.0</td>\n",
       "      <td>[{'iso_639_1': 'en', 'name': 'English'}, {'iso...</td>\n",
       "      <td>Released</td>\n",
       "      <td>Gambler. Thief. Junkie. Killer. Cop.</td>\n",
       "      <td>Bad Lieutenant</td>\n",
       "      <td>False</td>\n",
       "      <td>6.9</td>\n",
       "      <td>162.0</td>\n",
       "    </tr>\n",
       "    <tr>\n",
       "      <th>3</th>\n",
       "      <td>False</td>\n",
       "      <td>NaN</td>\n",
       "      <td>0</td>\n",
       "      <td>[{'id': 27, 'name': 'Horror'}, {'id': 10749, '...</td>\n",
       "      <td>NaN</td>\n",
       "      <td>9976</td>\n",
       "      <td>tt0380687</td>\n",
       "      <td>en</td>\n",
       "      <td>Satan's Little Helper</td>\n",
       "      <td>A naïve young boy unknowingly becomes the pawn...</td>\n",
       "      <td>2.233189</td>\n",
       "      <td>/59HgSvjDiaqUSYz43VZnpChgBkp.jpg</td>\n",
       "      <td>[{'name': 'Intrinsic Value Films', 'id': 2828}...</td>\n",
       "      <td>[{'iso_3166_1': 'US', 'name': 'United States o...</td>\n",
       "      <td>2004-01-01</td>\n",
       "      <td>0.0</td>\n",
       "      <td>100.0</td>\n",
       "      <td>[{'iso_639_1': 'it', 'name': 'Italiano'}, {'is...</td>\n",
       "      <td>Released</td>\n",
       "      <td>You'll laugh 'til you die</td>\n",
       "      <td>Satan's Little Helper</td>\n",
       "      <td>False</td>\n",
       "      <td>5.0</td>\n",
       "      <td>42.0</td>\n",
       "    </tr>\n",
       "    <tr>\n",
       "      <th>4</th>\n",
       "      <td>False</td>\n",
       "      <td>NaN</td>\n",
       "      <td>0</td>\n",
       "      <td>[{'id': 35, 'name': 'Comedy'}, {'id': 18, 'nam...</td>\n",
       "      <td>NaN</td>\n",
       "      <td>46761</td>\n",
       "      <td>tt0157044</td>\n",
       "      <td>fr</td>\n",
       "      <td>Sitcom</td>\n",
       "      <td>The adventures of an upper-class suburban fami...</td>\n",
       "      <td>1.800582</td>\n",
       "      <td>/fZqanl6sCC29zU1K2v2mpuWyyYw.jpg</td>\n",
       "      <td>[{'name': 'Fidélité Productions', 'id': 147}]</td>\n",
       "      <td>[{'iso_3166_1': 'FR', 'name': 'France'}]</td>\n",
       "      <td>1998-05-27</td>\n",
       "      <td>0.0</td>\n",
       "      <td>80.0</td>\n",
       "      <td>[{'iso_639_1': 'fr', 'name': 'Français'}]</td>\n",
       "      <td>Released</td>\n",
       "      <td>NaN</td>\n",
       "      <td>Sitcom</td>\n",
       "      <td>False</td>\n",
       "      <td>6.4</td>\n",
       "      <td>27.0</td>\n",
       "    </tr>\n",
       "  </tbody>\n",
       "</table>\n",
       "</div>"
      ],
      "text/plain": [
       "   adult belongs_to_collection   budget  \\\n",
       "0  False                   NaN        0   \n",
       "1  False                   NaN        0   \n",
       "2  False                   NaN  1000000   \n",
       "3  False                   NaN        0   \n",
       "4  False                   NaN        0   \n",
       "\n",
       "                                              genres  \\\n",
       "0  [{'id': 18, 'name': 'Drama'}, {'id': 35, 'name...   \n",
       "1  [{'id': 18, 'name': 'Drama'}, {'id': 35, 'name...   \n",
       "2  [{'id': 80, 'name': 'Crime'}, {'id': 18, 'name...   \n",
       "3  [{'id': 27, 'name': 'Horror'}, {'id': 10749, '...   \n",
       "4  [{'id': 35, 'name': 'Comedy'}, {'id': 18, 'nam...   \n",
       "\n",
       "                                 homepage      id    imdb_id  \\\n",
       "0  https://www.netflix.com/title/80164212  411405  tt5717492   \n",
       "1                                     NaN   42492  tt0069449   \n",
       "2                                     NaN   12143  tt0103759   \n",
       "3                                     NaN    9976  tt0380687   \n",
       "4                                     NaN   46761  tt0157044   \n",
       "\n",
       "  original_language         original_title  \\\n",
       "0                en           Small Crimes   \n",
       "1                en         Up the Sandbox   \n",
       "2                en         Bad Lieutenant   \n",
       "3                en  Satan's Little Helper   \n",
       "4                fr                 Sitcom   \n",
       "\n",
       "                                            overview popularity  \\\n",
       "0  A disgraced former cop, fresh off a six-year p...   7.219022   \n",
       "1  A young wife and mother, bored with day-to-day...    0.13845   \n",
       "2  While investigating a young nun's rape, a corr...   6.417037   \n",
       "3  A naïve young boy unknowingly becomes the pawn...   2.233189   \n",
       "4  The adventures of an upper-class suburban fami...   1.800582   \n",
       "\n",
       "                        poster_path  \\\n",
       "0  /z7jmLmrs0pLlDU4GI6ItaJeqlET.jpg   \n",
       "1  /zwOmdqvPObv9EsMgne7EBYzPYGW.jpg   \n",
       "2  /oe8VjWCKXktqA19T1ZWtaSn8rc2.jpg   \n",
       "3  /59HgSvjDiaqUSYz43VZnpChgBkp.jpg   \n",
       "4  /fZqanl6sCC29zU1K2v2mpuWyyYw.jpg   \n",
       "\n",
       "                                production_companies  \\\n",
       "0  [{'name': 'Rooks Nest Entertainment', 'id': 34...   \n",
       "1  [{'name': 'Barwood Films', 'id': 3645}, {'name...   \n",
       "2     [{'name': 'Bad Lt. Productions', 'id': 11264}]   \n",
       "3  [{'name': 'Intrinsic Value Films', 'id': 2828}...   \n",
       "4      [{'name': 'Fidélité Productions', 'id': 147}]   \n",
       "\n",
       "                                production_countries release_date    revenue  \\\n",
       "0  [{'iso_3166_1': 'CA', 'name': 'Canada'}, {'iso...   2017-04-28        0.0   \n",
       "1  [{'iso_3166_1': 'US', 'name': 'United States o...   1972-12-21        0.0   \n",
       "2  [{'iso_3166_1': 'US', 'name': 'United States o...   1992-09-16  2019469.0   \n",
       "3  [{'iso_3166_1': 'US', 'name': 'United States o...   2004-01-01        0.0   \n",
       "4           [{'iso_3166_1': 'FR', 'name': 'France'}]   1998-05-27        0.0   \n",
       "\n",
       "   runtime                                   spoken_languages    status  \\\n",
       "0     95.0  [{'iso_639_1': 'en', 'name': 'English'}, {'iso...  Released   \n",
       "1     97.0           [{'iso_639_1': 'en', 'name': 'English'}]  Released   \n",
       "2     96.0  [{'iso_639_1': 'en', 'name': 'English'}, {'iso...  Released   \n",
       "3    100.0  [{'iso_639_1': 'it', 'name': 'Italiano'}, {'is...  Released   \n",
       "4     80.0          [{'iso_639_1': 'fr', 'name': 'Français'}]  Released   \n",
       "\n",
       "                                tagline                  title  video  \\\n",
       "0                                   NaN           Small Crimes  False   \n",
       "1                                   NaN         Up the Sandbox  False   \n",
       "2  Gambler. Thief. Junkie. Killer. Cop.         Bad Lieutenant  False   \n",
       "3             You'll laugh 'til you die  Satan's Little Helper  False   \n",
       "4                                   NaN                 Sitcom  False   \n",
       "\n",
       "   vote_average  vote_count  \n",
       "0           5.8        55.0  \n",
       "1           7.3         2.0  \n",
       "2           6.9       162.0  \n",
       "3           5.0        42.0  \n",
       "4           6.4        27.0  "
      ]
     },
     "execution_count": 7,
     "metadata": {},
     "output_type": "execute_result"
    }
   ],
   "source": [
    "dl.metadata_ds.head(5)"
   ]
  },
  {
   "cell_type": "code",
   "execution_count": 8,
   "id": "bcfda80b",
   "metadata": {},
   "outputs": [
    {
     "data": {
      "text/plain": [
       "'A disgraced former cop, fresh off a six-year prison sentence for attempted murder - returns home looking for redemption but winds up trapped in the mess he left behind.'"
      ]
     },
     "execution_count": 8,
     "metadata": {},
     "output_type": "execute_result"
    }
   ],
   "source": [
    "dl.metadata_ds[\"overview\"][0]"
   ]
  },
  {
   "cell_type": "code",
   "execution_count": 9,
   "id": "e961e431",
   "metadata": {},
   "outputs": [
    {
     "data": {
      "text/plain": [
       "\"[{'id': 18, 'name': 'Drama'}, {'id': 35, 'name': 'Comedy'}, {'id': 53, 'name': 'Thriller'}, {'id': 80, 'name': 'Crime'}]\""
      ]
     },
     "execution_count": 9,
     "metadata": {},
     "output_type": "execute_result"
    }
   ],
   "source": [
    "dl.metadata_ds[\"genres\"][0]"
   ]
  },
  {
   "cell_type": "code",
   "execution_count": 10,
   "id": "9c8c3b8e",
   "metadata": {},
   "outputs": [
    {
     "data": {
      "text/html": [
       "<div>\n",
       "<style scoped>\n",
       "    .dataframe tbody tr th:only-of-type {\n",
       "        vertical-align: middle;\n",
       "    }\n",
       "\n",
       "    .dataframe tbody tr th {\n",
       "        vertical-align: top;\n",
       "    }\n",
       "\n",
       "    .dataframe thead th {\n",
       "        text-align: right;\n",
       "    }\n",
       "</style>\n",
       "<table border=\"1\" class=\"dataframe\">\n",
       "  <thead>\n",
       "    <tr style=\"text-align: right;\">\n",
       "      <th></th>\n",
       "      <th>id</th>\n",
       "      <th>keywords</th>\n",
       "    </tr>\n",
       "  </thead>\n",
       "  <tbody>\n",
       "    <tr>\n",
       "      <th>0</th>\n",
       "      <td>16997</td>\n",
       "      <td>[{'id': 156786, 'name': 'prison escape'}, {'id...</td>\n",
       "    </tr>\n",
       "    <tr>\n",
       "      <th>1</th>\n",
       "      <td>46548</td>\n",
       "      <td>[]</td>\n",
       "    </tr>\n",
       "    <tr>\n",
       "      <th>2</th>\n",
       "      <td>50028</td>\n",
       "      <td>[{'id': 187056, 'name': 'woman director'}]</td>\n",
       "    </tr>\n",
       "    <tr>\n",
       "      <th>3</th>\n",
       "      <td>259550</td>\n",
       "      <td>[{'id': 12425, 'name': 'racism'}, {'id': 14514...</td>\n",
       "    </tr>\n",
       "    <tr>\n",
       "      <th>4</th>\n",
       "      <td>34474</td>\n",
       "      <td>[{'id': 74, 'name': 'germany'}, {'id': 549, 'n...</td>\n",
       "    </tr>\n",
       "  </tbody>\n",
       "</table>\n",
       "</div>"
      ],
      "text/plain": [
       "       id                                           keywords\n",
       "0   16997  [{'id': 156786, 'name': 'prison escape'}, {'id...\n",
       "1   46548                                                 []\n",
       "2   50028         [{'id': 187056, 'name': 'woman director'}]\n",
       "3  259550  [{'id': 12425, 'name': 'racism'}, {'id': 14514...\n",
       "4   34474  [{'id': 74, 'name': 'germany'}, {'id': 549, 'n..."
      ]
     },
     "execution_count": 10,
     "metadata": {},
     "output_type": "execute_result"
    }
   ],
   "source": [
    "dl.keywords_ds.head(5)"
   ]
  },
  {
   "cell_type": "code",
   "execution_count": 11,
   "id": "024b766d",
   "metadata": {},
   "outputs": [
    {
     "data": {
      "text/html": [
       "<div>\n",
       "<style scoped>\n",
       "    .dataframe tbody tr th:only-of-type {\n",
       "        vertical-align: middle;\n",
       "    }\n",
       "\n",
       "    .dataframe tbody tr th {\n",
       "        vertical-align: top;\n",
       "    }\n",
       "\n",
       "    .dataframe thead th {\n",
       "        text-align: right;\n",
       "    }\n",
       "</style>\n",
       "<table border=\"1\" class=\"dataframe\">\n",
       "  <thead>\n",
       "    <tr style=\"text-align: right;\">\n",
       "      <th></th>\n",
       "      <th>cast</th>\n",
       "      <th>crew</th>\n",
       "      <th>id</th>\n",
       "    </tr>\n",
       "  </thead>\n",
       "  <tbody>\n",
       "    <tr>\n",
       "      <th>0</th>\n",
       "      <td>[{'cast_id': 4, 'character': 'David Marx', 'cr...</td>\n",
       "      <td>[{'credit_id': '5630aa66c3a3681b5c00f74e', 'de...</td>\n",
       "      <td>41366</td>\n",
       "    </tr>\n",
       "    <tr>\n",
       "      <th>1</th>\n",
       "      <td>[{'cast_id': 1, 'character': \"Eduardo 'Eddie' ...</td>\n",
       "      <td>[{'credit_id': '59379c1fc3a36827dd000b2f', 'de...</td>\n",
       "      <td>460846</td>\n",
       "    </tr>\n",
       "    <tr>\n",
       "      <th>2</th>\n",
       "      <td>[{'cast_id': 9, 'character': 'Paul', 'credit_i...</td>\n",
       "      <td>[{'credit_id': '52fe421dc3a36847f8005383', 'de...</td>\n",
       "      <td>143</td>\n",
       "    </tr>\n",
       "    <tr>\n",
       "      <th>3</th>\n",
       "      <td>[{'cast_id': 2, 'character': 'Oreste Jacovacci...</td>\n",
       "      <td>[{'credit_id': '5648d02dc3a3682605007df6', 'de...</td>\n",
       "      <td>55823</td>\n",
       "    </tr>\n",
       "    <tr>\n",
       "      <th>4</th>\n",
       "      <td>[{'cast_id': 1, 'character': 'Nathalie', 'cred...</td>\n",
       "      <td>[{'credit_id': '52fe46b79251416c9105d4fd', 'de...</td>\n",
       "      <td>38414</td>\n",
       "    </tr>\n",
       "  </tbody>\n",
       "</table>\n",
       "</div>"
      ],
      "text/plain": [
       "                                                cast  \\\n",
       "0  [{'cast_id': 4, 'character': 'David Marx', 'cr...   \n",
       "1  [{'cast_id': 1, 'character': \"Eduardo 'Eddie' ...   \n",
       "2  [{'cast_id': 9, 'character': 'Paul', 'credit_i...   \n",
       "3  [{'cast_id': 2, 'character': 'Oreste Jacovacci...   \n",
       "4  [{'cast_id': 1, 'character': 'Nathalie', 'cred...   \n",
       "\n",
       "                                                crew      id  \n",
       "0  [{'credit_id': '5630aa66c3a3681b5c00f74e', 'de...   41366  \n",
       "1  [{'credit_id': '59379c1fc3a36827dd000b2f', 'de...  460846  \n",
       "2  [{'credit_id': '52fe421dc3a36847f8005383', 'de...     143  \n",
       "3  [{'credit_id': '5648d02dc3a3682605007df6', 'de...   55823  \n",
       "4  [{'credit_id': '52fe46b79251416c9105d4fd', 'de...   38414  "
      ]
     },
     "execution_count": 11,
     "metadata": {},
     "output_type": "execute_result"
    }
   ],
   "source": [
    "dl.credits_ds.head(5)"
   ]
  },
  {
   "cell_type": "markdown",
   "id": "bec530c0",
   "metadata": {},
   "source": [
    "## 3) NLP preproc\n",
    "I choose to leverage only metadata overview + title + tagline to performe classification inference on the genres."
   ]
  },
  {
   "cell_type": "code",
   "execution_count": 12,
   "id": "d939ba63",
   "metadata": {},
   "outputs": [],
   "source": [
    "features = [\"original_title\", \"overview\", \"tagline\"]\n",
    "target = \"genres\""
   ]
  },
  {
   "cell_type": "code",
   "execution_count": 13,
   "id": "d00e8ac3",
   "metadata": {},
   "outputs": [
    {
     "data": {
      "text/plain": [
       "genres                0\n",
       "original_title        0\n",
       "overview            954\n",
       "tagline           25054\n",
       "dtype: int64"
      ]
     },
     "execution_count": 13,
     "metadata": {},
     "output_type": "execute_result"
    }
   ],
   "source": [
    "# check nans\n",
    "dl.metadata_ds.drop([c for c in dl.metadata_ds.columns if c not in features+[target]],axis=1, inplace=True)\n",
    "dl.metadata_ds.isna().sum()"
   ]
  },
  {
   "cell_type": "code",
   "execution_count": 14,
   "id": "b5866a3c",
   "metadata": {},
   "outputs": [],
   "source": [
    "# replace nans with empty strings\n",
    "dl.metadata_ds.fillna(\"\", inplace=True)"
   ]
  },
  {
   "cell_type": "code",
   "execution_count": 15,
   "id": "225bfd42",
   "metadata": {
    "scrolled": true
   },
   "outputs": [
    {
     "data": {
      "text/html": [
       "<div>\n",
       "<style scoped>\n",
       "    .dataframe tbody tr th:only-of-type {\n",
       "        vertical-align: middle;\n",
       "    }\n",
       "\n",
       "    .dataframe tbody tr th {\n",
       "        vertical-align: top;\n",
       "    }\n",
       "\n",
       "    .dataframe thead th {\n",
       "        text-align: right;\n",
       "    }\n",
       "</style>\n",
       "<table border=\"1\" class=\"dataframe\">\n",
       "  <thead>\n",
       "    <tr style=\"text-align: right;\">\n",
       "      <th></th>\n",
       "      <th>original_title</th>\n",
       "      <th>overview</th>\n",
       "      <th>tagline</th>\n",
       "    </tr>\n",
       "  </thead>\n",
       "  <tbody>\n",
       "    <tr>\n",
       "      <th>0</th>\n",
       "      <td>Small Crimes</td>\n",
       "      <td>A disgraced former cop, fresh off a six-year p...</td>\n",
       "      <td></td>\n",
       "    </tr>\n",
       "    <tr>\n",
       "      <th>1</th>\n",
       "      <td>Up the Sandbox</td>\n",
       "      <td>A young wife and mother, bored with day-to-day...</td>\n",
       "      <td></td>\n",
       "    </tr>\n",
       "    <tr>\n",
       "      <th>2</th>\n",
       "      <td>Bad Lieutenant</td>\n",
       "      <td>While investigating a young nun's rape, a corr...</td>\n",
       "      <td>Gambler. Thief. Junkie. Killer. Cop.</td>\n",
       "    </tr>\n",
       "    <tr>\n",
       "      <th>3</th>\n",
       "      <td>Satan's Little Helper</td>\n",
       "      <td>A naïve young boy unknowingly becomes the pawn...</td>\n",
       "      <td>You'll laugh 'til you die</td>\n",
       "    </tr>\n",
       "    <tr>\n",
       "      <th>4</th>\n",
       "      <td>Sitcom</td>\n",
       "      <td>The adventures of an upper-class suburban fami...</td>\n",
       "      <td></td>\n",
       "    </tr>\n",
       "    <tr>\n",
       "      <th>...</th>\n",
       "      <td>...</td>\n",
       "      <td>...</td>\n",
       "      <td>...</td>\n",
       "    </tr>\n",
       "    <tr>\n",
       "      <th>45461</th>\n",
       "      <td>Streamers</td>\n",
       "      <td>Four young recruits about to be sent to Vietna...</td>\n",
       "      <td></td>\n",
       "    </tr>\n",
       "    <tr>\n",
       "      <th>45462</th>\n",
       "      <td>Farmer Al Falfa Sees New York</td>\n",
       "      <td>Farmer Al Falfa goes to New York, money bag in...</td>\n",
       "      <td></td>\n",
       "    </tr>\n",
       "    <tr>\n",
       "      <th>45463</th>\n",
       "      <td>A Cry in the Wilderness</td>\n",
       "      <td>The father of a wilderness family gets bitten ...</td>\n",
       "      <td></td>\n",
       "    </tr>\n",
       "    <tr>\n",
       "      <th>45464</th>\n",
       "      <td>Talk of Angels</td>\n",
       "      <td>This is the story of a young Irish woman who c...</td>\n",
       "      <td></td>\n",
       "    </tr>\n",
       "    <tr>\n",
       "      <th>45465</th>\n",
       "      <td>Hungry Wives</td>\n",
       "      <td>A bored, unhappy suburban housewife gets mixed...</td>\n",
       "      <td>Every Night is Halloween.</td>\n",
       "    </tr>\n",
       "  </tbody>\n",
       "</table>\n",
       "<p>45466 rows × 3 columns</p>\n",
       "</div>"
      ],
      "text/plain": [
       "                      original_title  \\\n",
       "0                       Small Crimes   \n",
       "1                     Up the Sandbox   \n",
       "2                     Bad Lieutenant   \n",
       "3              Satan's Little Helper   \n",
       "4                             Sitcom   \n",
       "...                              ...   \n",
       "45461                      Streamers   \n",
       "45462  Farmer Al Falfa Sees New York   \n",
       "45463        A Cry in the Wilderness   \n",
       "45464                 Talk of Angels   \n",
       "45465                   Hungry Wives   \n",
       "\n",
       "                                                overview  \\\n",
       "0      A disgraced former cop, fresh off a six-year p...   \n",
       "1      A young wife and mother, bored with day-to-day...   \n",
       "2      While investigating a young nun's rape, a corr...   \n",
       "3      A naïve young boy unknowingly becomes the pawn...   \n",
       "4      The adventures of an upper-class suburban fami...   \n",
       "...                                                  ...   \n",
       "45461  Four young recruits about to be sent to Vietna...   \n",
       "45462  Farmer Al Falfa goes to New York, money bag in...   \n",
       "45463  The father of a wilderness family gets bitten ...   \n",
       "45464  This is the story of a young Irish woman who c...   \n",
       "45465  A bored, unhappy suburban housewife gets mixed...   \n",
       "\n",
       "                                    tagline  \n",
       "0                                            \n",
       "1                                            \n",
       "2      Gambler. Thief. Junkie. Killer. Cop.  \n",
       "3                 You'll laugh 'til you die  \n",
       "4                                            \n",
       "...                                     ...  \n",
       "45461                                        \n",
       "45462                                        \n",
       "45463                                        \n",
       "45464                                        \n",
       "45465             Every Night is Halloween.  \n",
       "\n",
       "[45466 rows x 3 columns]"
      ]
     },
     "execution_count": 15,
     "metadata": {},
     "output_type": "execute_result"
    }
   ],
   "source": [
    "dl.metadata_ds[features]"
   ]
  },
  {
   "cell_type": "code",
   "execution_count": 16,
   "id": "2dcae1d9",
   "metadata": {},
   "outputs": [
    {
     "data": {
      "text/plain": [
       "0        [{'id': 18, 'name': 'Drama'}, {'id': 35, 'name...\n",
       "1        [{'id': 18, 'name': 'Drama'}, {'id': 35, 'name...\n",
       "2        [{'id': 80, 'name': 'Crime'}, {'id': 18, 'name...\n",
       "3        [{'id': 27, 'name': 'Horror'}, {'id': 10749, '...\n",
       "4        [{'id': 35, 'name': 'Comedy'}, {'id': 18, 'nam...\n",
       "                               ...                        \n",
       "45461                        [{'id': 18, 'name': 'Drama'}]\n",
       "45462                    [{'id': 16, 'name': 'Animation'}]\n",
       "45463    [{'id': 53, 'name': 'Thriller'}, {'id': 10770,...\n",
       "45464    [{'id': 18, 'name': 'Drama'}, {'id': 10749, 'n...\n",
       "45465    [{'id': 9648, 'name': 'Mystery'}, {'id': 27, '...\n",
       "Name: genres, Length: 45466, dtype: object"
      ]
     },
     "execution_count": 16,
     "metadata": {},
     "output_type": "execute_result"
    }
   ],
   "source": [
    "dl.metadata_ds[target]"
   ]
  },
  {
   "cell_type": "code",
   "execution_count": 17,
   "id": "f98342a9",
   "metadata": {},
   "outputs": [
    {
     "data": {
      "text/html": [
       "<div>\n",
       "<style scoped>\n",
       "    .dataframe tbody tr th:only-of-type {\n",
       "        vertical-align: middle;\n",
       "    }\n",
       "\n",
       "    .dataframe tbody tr th {\n",
       "        vertical-align: top;\n",
       "    }\n",
       "\n",
       "    .dataframe thead th {\n",
       "        text-align: right;\n",
       "    }\n",
       "</style>\n",
       "<table border=\"1\" class=\"dataframe\">\n",
       "  <thead>\n",
       "    <tr style=\"text-align: right;\">\n",
       "      <th></th>\n",
       "      <th>genres</th>\n",
       "      <th>desc</th>\n",
       "    </tr>\n",
       "  </thead>\n",
       "  <tbody>\n",
       "    <tr>\n",
       "      <th>0</th>\n",
       "      <td>[{'id': 18, 'name': 'Drama'}, {'id': 35, 'name...</td>\n",
       "      <td>Small Crimes A disgraced former cop, fresh off...</td>\n",
       "    </tr>\n",
       "    <tr>\n",
       "      <th>1</th>\n",
       "      <td>[{'id': 18, 'name': 'Drama'}, {'id': 35, 'name...</td>\n",
       "      <td>Up the Sandbox A young wife and mother, bored ...</td>\n",
       "    </tr>\n",
       "    <tr>\n",
       "      <th>2</th>\n",
       "      <td>[{'id': 80, 'name': 'Crime'}, {'id': 18, 'name...</td>\n",
       "      <td>Bad Lieutenant While investigating a young nun...</td>\n",
       "    </tr>\n",
       "    <tr>\n",
       "      <th>3</th>\n",
       "      <td>[{'id': 27, 'name': 'Horror'}, {'id': 10749, '...</td>\n",
       "      <td>Satan's Little Helper A naïve young boy unknow...</td>\n",
       "    </tr>\n",
       "    <tr>\n",
       "      <th>4</th>\n",
       "      <td>[{'id': 35, 'name': 'Comedy'}, {'id': 18, 'nam...</td>\n",
       "      <td>Sitcom The adventures of an upper-class suburb...</td>\n",
       "    </tr>\n",
       "    <tr>\n",
       "      <th>...</th>\n",
       "      <td>...</td>\n",
       "      <td>...</td>\n",
       "    </tr>\n",
       "    <tr>\n",
       "      <th>45461</th>\n",
       "      <td>[{'id': 18, 'name': 'Drama'}]</td>\n",
       "      <td>Streamers Four young recruits about to be sent...</td>\n",
       "    </tr>\n",
       "    <tr>\n",
       "      <th>45462</th>\n",
       "      <td>[{'id': 16, 'name': 'Animation'}]</td>\n",
       "      <td>Farmer Al Falfa Sees New York Farmer Al Falfa ...</td>\n",
       "    </tr>\n",
       "    <tr>\n",
       "      <th>45463</th>\n",
       "      <td>[{'id': 53, 'name': 'Thriller'}, {'id': 10770,...</td>\n",
       "      <td>A Cry in the Wilderness The father of a wilder...</td>\n",
       "    </tr>\n",
       "    <tr>\n",
       "      <th>45464</th>\n",
       "      <td>[{'id': 18, 'name': 'Drama'}, {'id': 10749, 'n...</td>\n",
       "      <td>Talk of Angels This is the story of a young Ir...</td>\n",
       "    </tr>\n",
       "    <tr>\n",
       "      <th>45465</th>\n",
       "      <td>[{'id': 9648, 'name': 'Mystery'}, {'id': 27, '...</td>\n",
       "      <td>Hungry Wives A bored, unhappy suburban housewi...</td>\n",
       "    </tr>\n",
       "  </tbody>\n",
       "</table>\n",
       "<p>45466 rows × 2 columns</p>\n",
       "</div>"
      ],
      "text/plain": [
       "                                                  genres  \\\n",
       "0      [{'id': 18, 'name': 'Drama'}, {'id': 35, 'name...   \n",
       "1      [{'id': 18, 'name': 'Drama'}, {'id': 35, 'name...   \n",
       "2      [{'id': 80, 'name': 'Crime'}, {'id': 18, 'name...   \n",
       "3      [{'id': 27, 'name': 'Horror'}, {'id': 10749, '...   \n",
       "4      [{'id': 35, 'name': 'Comedy'}, {'id': 18, 'nam...   \n",
       "...                                                  ...   \n",
       "45461                      [{'id': 18, 'name': 'Drama'}]   \n",
       "45462                  [{'id': 16, 'name': 'Animation'}]   \n",
       "45463  [{'id': 53, 'name': 'Thriller'}, {'id': 10770,...   \n",
       "45464  [{'id': 18, 'name': 'Drama'}, {'id': 10749, 'n...   \n",
       "45465  [{'id': 9648, 'name': 'Mystery'}, {'id': 27, '...   \n",
       "\n",
       "                                                    desc  \n",
       "0      Small Crimes A disgraced former cop, fresh off...  \n",
       "1      Up the Sandbox A young wife and mother, bored ...  \n",
       "2      Bad Lieutenant While investigating a young nun...  \n",
       "3      Satan's Little Helper A naïve young boy unknow...  \n",
       "4      Sitcom The adventures of an upper-class suburb...  \n",
       "...                                                  ...  \n",
       "45461  Streamers Four young recruits about to be sent...  \n",
       "45462  Farmer Al Falfa Sees New York Farmer Al Falfa ...  \n",
       "45463  A Cry in the Wilderness The father of a wilder...  \n",
       "45464  Talk of Angels This is the story of a young Ir...  \n",
       "45465  Hungry Wives A bored, unhappy suburban housewi...  \n",
       "\n",
       "[45466 rows x 2 columns]"
      ]
     },
     "execution_count": 17,
     "metadata": {},
     "output_type": "execute_result"
    }
   ],
   "source": [
    "# merge descriptions columns into desc\n",
    "dl.metadata_ds[\"desc\"] = dl.metadata_ds[\"original_title\"]+\" \"+dl.metadata_ds[\"overview\"]+\\\n",
    "                         \" \"+ dl.metadata_ds[\"tagline\"]\n",
    "dl.metadata_ds.drop(features, axis = 1, inplace=True)\n",
    "dl.metadata_ds"
   ]
  },
  {
   "cell_type": "code",
   "execution_count": 18,
   "id": "b63ad9fb",
   "metadata": {},
   "outputs": [
    {
     "name": "stdout",
     "output_type": "stream",
     "text": [
      "train set shape:\t(36372, 2)\n",
      "valid-test set shape:\t(9094, 2)\n"
     ]
    }
   ],
   "source": [
    "# split train test\n",
    "train_perc = 0.8\n",
    "max_train_ind = int(dl.metadata_ds.shape[0]*train_perc)\n",
    "\n",
    "train_set = dl.metadata_ds.iloc[:max_train_ind]\n",
    "valid_test_set = dl.metadata_ds.iloc[max_train_ind:]\n",
    "print(\"train set shape:\\t{}\\nvalid-test set shape:\\t{}\".format(train_set.shape, valid_test_set.shape))"
   ]
  },
  {
   "cell_type": "markdown",
   "id": "2b6fd019",
   "metadata": {},
   "source": [
    "One Hot Encode target genres"
   ]
  },
  {
   "cell_type": "code",
   "execution_count": 19,
   "id": "77e0188e",
   "metadata": {},
   "outputs": [
    {
     "name": "stderr",
     "output_type": "stream",
     "text": [
      "100%|██████████| 36372/36372 [00:00<00:00, 59835.81it/s]\n"
     ]
    }
   ],
   "source": [
    "# check target cardinality\n",
    "tgt_set = set()\n",
    "for e in tqdm(train_set[target]):\n",
    "    for g in literal_eval(e):\n",
    "        tgt_set.add(g[\"name\"])"
   ]
  },
  {
   "cell_type": "code",
   "execution_count": 20,
   "id": "24056caf",
   "metadata": {},
   "outputs": [
    {
     "data": {
      "text/plain": [
       "32"
      ]
     },
     "execution_count": 20,
     "metadata": {},
     "output_type": "execute_result"
    }
   ],
   "source": [
    "num_genres = len(tgt_set)\n",
    "num_genres"
   ]
  },
  {
   "cell_type": "code",
   "execution_count": 21,
   "id": "dfbc5ca5",
   "metadata": {},
   "outputs": [],
   "source": [
    "id_genres_dict = dict()\n",
    "genres_id_dict = dict()\n",
    "for e in enumerate(tgt_set):\n",
    "    id_genres_dict[e[0]]=e[1]\n",
    "    genres_id_dict[e[1]]=e[0]\n",
    "    \n",
    "# saving\n",
    "with open(os.path.join(aux_folder, \"id_genres_dict_{}.pkl\".format(\n",
    "    str(time.time()).replace(\".\", \"_\"))), 'wb') as f:\n",
    "    pickle.dump(id_genres_dict, f, protocol=pickle.HIGHEST_PROTOCOL)\n",
    "with open(os.path.join(aux_folder, \"genres_id_dict_{}.pkl\".format(str(\n",
    "    time.time()).replace(\".\", \"_\"))), 'wb') as f:\n",
    "    pickle.dump(genres_id_dict, f, protocol=pickle.HIGHEST_PROTOCOL)"
   ]
  },
  {
   "cell_type": "code",
   "execution_count": 22,
   "id": "d1ac157d",
   "metadata": {
    "scrolled": true
   },
   "outputs": [
    {
     "data": {
      "text/plain": [
       "{0: 'Crime',\n",
       " 1: 'Horror',\n",
       " 2: 'TV Movie',\n",
       " 3: 'Odyssey Media',\n",
       " 4: 'Western',\n",
       " 5: 'Animation',\n",
       " 6: 'Vision View Entertainment',\n",
       " 7: 'Drama',\n",
       " 8: 'Telescene Film Group Productions',\n",
       " 9: 'Mardock Scramble Production Committee',\n",
       " 10: 'Pulser Productions',\n",
       " 11: 'Romance',\n",
       " 12: 'Foreign',\n",
       " 13: 'Science Fiction',\n",
       " 14: 'Comedy',\n",
       " 15: 'Sentai Filmworks',\n",
       " 16: 'Carousel Productions',\n",
       " 17: 'Aniplex',\n",
       " 18: 'The Cartel',\n",
       " 19: 'Family',\n",
       " 20: 'Adventure',\n",
       " 21: 'Mystery',\n",
       " 22: 'Fantasy',\n",
       " 23: 'War',\n",
       " 24: 'History',\n",
       " 25: 'Action',\n",
       " 26: 'Rogue State',\n",
       " 27: 'Documentary',\n",
       " 28: 'Music',\n",
       " 29: 'GoHands',\n",
       " 30: 'BROSTA TV',\n",
       " 31: 'Thriller'}"
      ]
     },
     "execution_count": 22,
     "metadata": {},
     "output_type": "execute_result"
    }
   ],
   "source": [
    "id_genres_dict"
   ]
  },
  {
   "cell_type": "code",
   "execution_count": 23,
   "id": "ffdfbd6d",
   "metadata": {
    "scrolled": true
   },
   "outputs": [
    {
     "data": {
      "text/plain": [
       "{'Crime': 0,\n",
       " 'Horror': 1,\n",
       " 'TV Movie': 2,\n",
       " 'Odyssey Media': 3,\n",
       " 'Western': 4,\n",
       " 'Animation': 5,\n",
       " 'Vision View Entertainment': 6,\n",
       " 'Drama': 7,\n",
       " 'Telescene Film Group Productions': 8,\n",
       " 'Mardock Scramble Production Committee': 9,\n",
       " 'Pulser Productions': 10,\n",
       " 'Romance': 11,\n",
       " 'Foreign': 12,\n",
       " 'Science Fiction': 13,\n",
       " 'Comedy': 14,\n",
       " 'Sentai Filmworks': 15,\n",
       " 'Carousel Productions': 16,\n",
       " 'Aniplex': 17,\n",
       " 'The Cartel': 18,\n",
       " 'Family': 19,\n",
       " 'Adventure': 20,\n",
       " 'Mystery': 21,\n",
       " 'Fantasy': 22,\n",
       " 'War': 23,\n",
       " 'History': 24,\n",
       " 'Action': 25,\n",
       " 'Rogue State': 26,\n",
       " 'Documentary': 27,\n",
       " 'Music': 28,\n",
       " 'GoHands': 29,\n",
       " 'BROSTA TV': 30,\n",
       " 'Thriller': 31}"
      ]
     },
     "execution_count": 23,
     "metadata": {},
     "output_type": "execute_result"
    }
   ],
   "source": [
    "genres_id_dict"
   ]
  },
  {
   "cell_type": "code",
   "execution_count": 24,
   "id": "e2f1923e",
   "metadata": {},
   "outputs": [],
   "source": [
    "def genres_to_ohe(g, num_g=num_genres):\n",
    "    \"\"\"\n",
    "    one hot encodes genres string g\n",
    "    \"\"\"\n",
    "    ohe = np.zeros(num_g, dtype = int)\n",
    "    gs = literal_eval(g)\n",
    "    for g in gs:\n",
    "        try:\n",
    "            ohe[genres_id_dict[g[\"name\"]]]=1\n",
    "        except KeyError: # validation unseen genre\n",
    "            pass\n",
    "    return ohe"
   ]
  },
  {
   "cell_type": "code",
   "execution_count": 25,
   "id": "26acb0b5",
   "metadata": {},
   "outputs": [
    {
     "name": "stdout",
     "output_type": "stream",
     "text": [
      "CPU times: user 791 ms, sys: 0 ns, total: 791 ms\n",
      "Wall time: 790 ms\n"
     ]
    }
   ],
   "source": [
    "%%time\n",
    "# ohe target\n",
    "dl.metadata_ds[target] = dl.metadata_ds[target].apply(lambda x: genres_to_ohe(x))"
   ]
  },
  {
   "cell_type": "code",
   "execution_count": 26,
   "id": "efe8a6da",
   "metadata": {},
   "outputs": [
    {
     "data": {
      "text/html": [
       "<div>\n",
       "<style scoped>\n",
       "    .dataframe tbody tr th:only-of-type {\n",
       "        vertical-align: middle;\n",
       "    }\n",
       "\n",
       "    .dataframe tbody tr th {\n",
       "        vertical-align: top;\n",
       "    }\n",
       "\n",
       "    .dataframe thead th {\n",
       "        text-align: right;\n",
       "    }\n",
       "</style>\n",
       "<table border=\"1\" class=\"dataframe\">\n",
       "  <thead>\n",
       "    <tr style=\"text-align: right;\">\n",
       "      <th></th>\n",
       "      <th>genres</th>\n",
       "      <th>desc</th>\n",
       "    </tr>\n",
       "  </thead>\n",
       "  <tbody>\n",
       "    <tr>\n",
       "      <th>0</th>\n",
       "      <td>[1, 0, 0, 0, 0, 0, 0, 1, 0, 0, 0, 0, 0, 0, 1, ...</td>\n",
       "      <td>Small Crimes A disgraced former cop, fresh off...</td>\n",
       "    </tr>\n",
       "    <tr>\n",
       "      <th>1</th>\n",
       "      <td>[0, 0, 0, 0, 0, 0, 0, 1, 0, 0, 0, 0, 0, 0, 1, ...</td>\n",
       "      <td>Up the Sandbox A young wife and mother, bored ...</td>\n",
       "    </tr>\n",
       "    <tr>\n",
       "      <th>2</th>\n",
       "      <td>[1, 0, 0, 0, 0, 0, 0, 1, 0, 0, 0, 0, 0, 0, 0, ...</td>\n",
       "      <td>Bad Lieutenant While investigating a young nun...</td>\n",
       "    </tr>\n",
       "    <tr>\n",
       "      <th>3</th>\n",
       "      <td>[0, 1, 0, 0, 0, 0, 0, 0, 0, 0, 0, 1, 0, 0, 1, ...</td>\n",
       "      <td>Satan's Little Helper A naïve young boy unknow...</td>\n",
       "    </tr>\n",
       "    <tr>\n",
       "      <th>4</th>\n",
       "      <td>[0, 0, 0, 0, 0, 0, 0, 1, 0, 0, 0, 0, 0, 0, 1, ...</td>\n",
       "      <td>Sitcom The adventures of an upper-class suburb...</td>\n",
       "    </tr>\n",
       "    <tr>\n",
       "      <th>...</th>\n",
       "      <td>...</td>\n",
       "      <td>...</td>\n",
       "    </tr>\n",
       "    <tr>\n",
       "      <th>36367</th>\n",
       "      <td>[0, 0, 0, 0, 0, 1, 0, 0, 0, 0, 0, 0, 0, 0, 0, ...</td>\n",
       "      <td>Tom and Jerry Meet Sherlock Holmes Tom and Jer...</td>\n",
       "    </tr>\n",
       "    <tr>\n",
       "      <th>36368</th>\n",
       "      <td>[0, 0, 0, 0, 0, 1, 0, 0, 0, 0, 0, 0, 0, 0, 1, ...</td>\n",
       "      <td>スレイヤーズ ぐれえと Lina and Naga, on their way to a t...</td>\n",
       "    </tr>\n",
       "    <tr>\n",
       "      <th>36369</th>\n",
       "      <td>[0, 0, 0, 0, 0, 0, 0, 1, 0, 0, 0, 0, 0, 0, 0, ...</td>\n",
       "      <td>شکارچی In an act of vengeance, a young man ran...</td>\n",
       "    </tr>\n",
       "    <tr>\n",
       "      <th>36370</th>\n",
       "      <td>[1, 0, 0, 0, 0, 0, 0, 1, 0, 0, 0, 0, 0, 0, 1, ...</td>\n",
       "      <td>Middle Man When a hapless, unfunny, wanna-be c...</td>\n",
       "    </tr>\n",
       "    <tr>\n",
       "      <th>36371</th>\n",
       "      <td>[0, 0, 0, 0, 0, 0, 0, 1, 0, 0, 0, 1, 1, 0, 1, ...</td>\n",
       "      <td>ఆర్య Arya (Allu Arjun) is a happy-go-lucky, co...</td>\n",
       "    </tr>\n",
       "  </tbody>\n",
       "</table>\n",
       "<p>36372 rows × 2 columns</p>\n",
       "</div>"
      ],
      "text/plain": [
       "                                                  genres  \\\n",
       "0      [1, 0, 0, 0, 0, 0, 0, 1, 0, 0, 0, 0, 0, 0, 1, ...   \n",
       "1      [0, 0, 0, 0, 0, 0, 0, 1, 0, 0, 0, 0, 0, 0, 1, ...   \n",
       "2      [1, 0, 0, 0, 0, 0, 0, 1, 0, 0, 0, 0, 0, 0, 0, ...   \n",
       "3      [0, 1, 0, 0, 0, 0, 0, 0, 0, 0, 0, 1, 0, 0, 1, ...   \n",
       "4      [0, 0, 0, 0, 0, 0, 0, 1, 0, 0, 0, 0, 0, 0, 1, ...   \n",
       "...                                                  ...   \n",
       "36367  [0, 0, 0, 0, 0, 1, 0, 0, 0, 0, 0, 0, 0, 0, 0, ...   \n",
       "36368  [0, 0, 0, 0, 0, 1, 0, 0, 0, 0, 0, 0, 0, 0, 1, ...   \n",
       "36369  [0, 0, 0, 0, 0, 0, 0, 1, 0, 0, 0, 0, 0, 0, 0, ...   \n",
       "36370  [1, 0, 0, 0, 0, 0, 0, 1, 0, 0, 0, 0, 0, 0, 1, ...   \n",
       "36371  [0, 0, 0, 0, 0, 0, 0, 1, 0, 0, 0, 1, 1, 0, 1, ...   \n",
       "\n",
       "                                                    desc  \n",
       "0      Small Crimes A disgraced former cop, fresh off...  \n",
       "1      Up the Sandbox A young wife and mother, bored ...  \n",
       "2      Bad Lieutenant While investigating a young nun...  \n",
       "3      Satan's Little Helper A naïve young boy unknow...  \n",
       "4      Sitcom The adventures of an upper-class suburb...  \n",
       "...                                                  ...  \n",
       "36367  Tom and Jerry Meet Sherlock Holmes Tom and Jer...  \n",
       "36368  スレイヤーズ ぐれえと Lina and Naga, on their way to a t...  \n",
       "36369  شکارچی In an act of vengeance, a young man ran...  \n",
       "36370  Middle Man When a hapless, unfunny, wanna-be c...  \n",
       "36371  ఆర్య Arya (Allu Arjun) is a happy-go-lucky, co...  \n",
       "\n",
       "[36372 rows x 2 columns]"
      ]
     },
     "execution_count": 26,
     "metadata": {},
     "output_type": "execute_result"
    }
   ],
   "source": [
    "train_set"
   ]
  },
  {
   "cell_type": "code",
   "execution_count": 27,
   "id": "b36a1b41",
   "metadata": {},
   "outputs": [
    {
     "data": {
      "text/html": [
       "<div>\n",
       "<style scoped>\n",
       "    .dataframe tbody tr th:only-of-type {\n",
       "        vertical-align: middle;\n",
       "    }\n",
       "\n",
       "    .dataframe tbody tr th {\n",
       "        vertical-align: top;\n",
       "    }\n",
       "\n",
       "    .dataframe thead th {\n",
       "        text-align: right;\n",
       "    }\n",
       "</style>\n",
       "<table border=\"1\" class=\"dataframe\">\n",
       "  <thead>\n",
       "    <tr style=\"text-align: right;\">\n",
       "      <th></th>\n",
       "      <th>genres</th>\n",
       "      <th>desc</th>\n",
       "    </tr>\n",
       "  </thead>\n",
       "  <tbody>\n",
       "    <tr>\n",
       "      <th>36372</th>\n",
       "      <td>[0, 0, 0, 0, 0, 0, 0, 1, 0, 0, 0, 1, 0, 0, 0, ...</td>\n",
       "      <td>Fjorton suger Fourteen-year-old Emma goes to a...</td>\n",
       "    </tr>\n",
       "    <tr>\n",
       "      <th>36373</th>\n",
       "      <td>[0, 0, 0, 0, 0, 0, 0, 0, 0, 0, 0, 0, 0, 0, 1, ...</td>\n",
       "      <td>Religulous Commentator-comic Bill Maher plays ...</td>\n",
       "    </tr>\n",
       "    <tr>\n",
       "      <th>36374</th>\n",
       "      <td>[0, 1, 0, 0, 0, 0, 0, 0, 0, 0, 0, 0, 0, 0, 0, ...</td>\n",
       "      <td>The Poughkeepsie Tapes When hundreds of videot...</td>\n",
       "    </tr>\n",
       "    <tr>\n",
       "      <th>36375</th>\n",
       "      <td>[0, 0, 0, 0, 0, 0, 0, 1, 0, 0, 0, 0, 0, 0, 0, ...</td>\n",
       "      <td>One Week Ben Tyler (Joshua Jackson) has been d...</td>\n",
       "    </tr>\n",
       "    <tr>\n",
       "      <th>36376</th>\n",
       "      <td>[1, 0, 0, 0, 0, 0, 0, 0, 0, 0, 0, 0, 0, 0, 0, ...</td>\n",
       "      <td>Catwoman Liquidated after discovering a corpor...</td>\n",
       "    </tr>\n",
       "    <tr>\n",
       "      <th>...</th>\n",
       "      <td>...</td>\n",
       "      <td>...</td>\n",
       "    </tr>\n",
       "    <tr>\n",
       "      <th>45461</th>\n",
       "      <td>[0, 0, 0, 0, 0, 0, 0, 1, 0, 0, 0, 0, 0, 0, 0, ...</td>\n",
       "      <td>Streamers Four young recruits about to be sent...</td>\n",
       "    </tr>\n",
       "    <tr>\n",
       "      <th>45462</th>\n",
       "      <td>[0, 0, 0, 0, 0, 1, 0, 0, 0, 0, 0, 0, 0, 0, 0, ...</td>\n",
       "      <td>Farmer Al Falfa Sees New York Farmer Al Falfa ...</td>\n",
       "    </tr>\n",
       "    <tr>\n",
       "      <th>45463</th>\n",
       "      <td>[0, 0, 1, 0, 0, 0, 0, 0, 0, 0, 0, 0, 0, 0, 0, ...</td>\n",
       "      <td>A Cry in the Wilderness The father of a wilder...</td>\n",
       "    </tr>\n",
       "    <tr>\n",
       "      <th>45464</th>\n",
       "      <td>[0, 0, 0, 0, 0, 0, 0, 1, 0, 0, 0, 1, 0, 0, 0, ...</td>\n",
       "      <td>Talk of Angels This is the story of a young Ir...</td>\n",
       "    </tr>\n",
       "    <tr>\n",
       "      <th>45465</th>\n",
       "      <td>[0, 1, 0, 0, 0, 0, 0, 1, 0, 0, 0, 0, 0, 0, 0, ...</td>\n",
       "      <td>Hungry Wives A bored, unhappy suburban housewi...</td>\n",
       "    </tr>\n",
       "  </tbody>\n",
       "</table>\n",
       "<p>9094 rows × 2 columns</p>\n",
       "</div>"
      ],
      "text/plain": [
       "                                                  genres  \\\n",
       "36372  [0, 0, 0, 0, 0, 0, 0, 1, 0, 0, 0, 1, 0, 0, 0, ...   \n",
       "36373  [0, 0, 0, 0, 0, 0, 0, 0, 0, 0, 0, 0, 0, 0, 1, ...   \n",
       "36374  [0, 1, 0, 0, 0, 0, 0, 0, 0, 0, 0, 0, 0, 0, 0, ...   \n",
       "36375  [0, 0, 0, 0, 0, 0, 0, 1, 0, 0, 0, 0, 0, 0, 0, ...   \n",
       "36376  [1, 0, 0, 0, 0, 0, 0, 0, 0, 0, 0, 0, 0, 0, 0, ...   \n",
       "...                                                  ...   \n",
       "45461  [0, 0, 0, 0, 0, 0, 0, 1, 0, 0, 0, 0, 0, 0, 0, ...   \n",
       "45462  [0, 0, 0, 0, 0, 1, 0, 0, 0, 0, 0, 0, 0, 0, 0, ...   \n",
       "45463  [0, 0, 1, 0, 0, 0, 0, 0, 0, 0, 0, 0, 0, 0, 0, ...   \n",
       "45464  [0, 0, 0, 0, 0, 0, 0, 1, 0, 0, 0, 1, 0, 0, 0, ...   \n",
       "45465  [0, 1, 0, 0, 0, 0, 0, 1, 0, 0, 0, 0, 0, 0, 0, ...   \n",
       "\n",
       "                                                    desc  \n",
       "36372  Fjorton suger Fourteen-year-old Emma goes to a...  \n",
       "36373  Religulous Commentator-comic Bill Maher plays ...  \n",
       "36374  The Poughkeepsie Tapes When hundreds of videot...  \n",
       "36375  One Week Ben Tyler (Joshua Jackson) has been d...  \n",
       "36376  Catwoman Liquidated after discovering a corpor...  \n",
       "...                                                  ...  \n",
       "45461  Streamers Four young recruits about to be sent...  \n",
       "45462  Farmer Al Falfa Sees New York Farmer Al Falfa ...  \n",
       "45463  A Cry in the Wilderness The father of a wilder...  \n",
       "45464  Talk of Angels This is the story of a young Ir...  \n",
       "45465  Hungry Wives A bored, unhappy suburban housewi...  \n",
       "\n",
       "[9094 rows x 2 columns]"
      ]
     },
     "execution_count": 27,
     "metadata": {},
     "output_type": "execute_result"
    }
   ],
   "source": [
    "valid_test_set"
   ]
  },
  {
   "cell_type": "code",
   "execution_count": 28,
   "id": "bae99c58",
   "metadata": {},
   "outputs": [
    {
     "name": "stdout",
     "output_type": "stream",
     "text": [
      "X_train shape:\t(36372,)\n",
      "y_train shape:\t(36372, 32)\n",
      "X_valid shape:\t(9094,)\n",
      "y_valid shape:\t(9094, 32)\n"
     ]
    }
   ],
   "source": [
    "X_train = train_set[\"desc\"]\n",
    "y_train = train_set[\"genres\"]\n",
    "\n",
    "X_valid = valid_test_set[\"desc\"]\n",
    "y_valid = valid_test_set[\"genres\"]\n",
    "\n",
    "y_train = np.array([list(x) for x in y_train.values])\n",
    "y_valid = np.array([list(x) for x in y_valid.values])\n",
    "\n",
    "print(\"X_train shape:\\t{}\\ny_train shape:\\t{}\\nX_valid shape:\\t{}\\ny_valid shape:\\t{}\".format(\n",
    "    X_train.shape, y_train.shape, X_valid.shape, y_valid.shape))"
   ]
  },
  {
   "cell_type": "markdown",
   "id": "1db5e3d0",
   "metadata": {},
   "source": [
    "## 4) Model\n",
    "sequence learning nlp rnn"
   ]
  },
  {
   "cell_type": "markdown",
   "id": "a67063fc",
   "metadata": {},
   "source": [
    "### tokenization"
   ]
  },
  {
   "cell_type": "code",
   "execution_count": 29,
   "id": "930074e2",
   "metadata": {},
   "outputs": [],
   "source": [
    "from tensorflow.keras.preprocessing.text import Tokenizer"
   ]
  },
  {
   "cell_type": "code",
   "execution_count": 30,
   "id": "aa285e25",
   "metadata": {},
   "outputs": [
    {
     "name": "stdout",
     "output_type": "stream",
     "text": [
      "CPU times: user 2.48 s, sys: 22.2 ms, total: 2.5 s\n",
      "Wall time: 2.5 s\n"
     ]
    }
   ],
   "source": [
    "%%time\n",
    "VOCAB_SIZE = 10000 # max num of tokens\n",
    "tok = Tokenizer(VOCAB_SIZE)\n",
    "tok.fit_on_texts(X_train)\n",
    "X_train = tok.texts_to_sequences(X_train)\n",
    "X_valid = tok.texts_to_sequences(X_valid)"
   ]
  },
  {
   "cell_type": "markdown",
   "id": "404918f6",
   "metadata": {},
   "source": [
    "### pad sequences"
   ]
  },
  {
   "cell_type": "code",
   "execution_count": 31,
   "id": "59eee335",
   "metadata": {},
   "outputs": [],
   "source": [
    "from tensorflow.keras.preprocessing.sequence import pad_sequences"
   ]
  },
  {
   "cell_type": "code",
   "execution_count": 32,
   "id": "9a27d8e3",
   "metadata": {},
   "outputs": [
    {
     "name": "stdout",
     "output_type": "stream",
     "text": [
      "(36372, 186)\n",
      "186\n",
      "X_train shape:\t(36372, 186)\n",
      "X_valid shape:\t(9094, 186)\n"
     ]
    }
   ],
   "source": [
    "X_train = pad_sequences(X_train, padding='post', truncating='post') # pad to longest seq\n",
    "print(X_train.shape)\n",
    "X_pad_len = X_train.shape[1]\n",
    "print(X_pad_len)\n",
    "X_valid = pad_sequences(X_valid, maxlen=X_pad_len, padding='post', truncating='post')\n",
    "print(\"X_train shape:\\t{}\\nX_valid shape:\\t{}\".format(\n",
    "    X_train.shape, X_valid.shape))"
   ]
  },
  {
   "cell_type": "markdown",
   "id": "3fdf9ad3",
   "metadata": {},
   "source": [
    "### Embedding and Processing"
   ]
  },
  {
   "cell_type": "code",
   "execution_count": 33,
   "id": "74895bc0",
   "metadata": {},
   "outputs": [],
   "source": [
    "from tensorflow.keras import Input, Model\n",
    "from tensorflow.keras.layers import Embedding, LSTM, GRU, Flatten, Dense, Dropout, Bidirectional\n",
    "from tensorflow.keras.regularizers import l1\n",
    "from tensorflow.keras.callbacks import EarlyStopping"
   ]
  },
  {
   "cell_type": "code",
   "execution_count": 34,
   "id": "216ddaca",
   "metadata": {},
   "outputs": [],
   "source": [
    "os.environ[\"TF_FORCE_GPU_ALLOW_GROWTH\"]=\"true\""
   ]
  },
  {
   "cell_type": "code",
   "execution_count": 35,
   "id": "aa22e7f8",
   "metadata": {},
   "outputs": [],
   "source": [
    "def plot_hist(hist):\n",
    "    \"\"\"\n",
    "    plots train and val accs during training\n",
    "    \"\"\"\n",
    "    plt.figure(figsize=(10, 7.5))\n",
    "    plt.plot(hist.history[\"accuracy\"], color = \"blue\", label = \"train_acc\")\n",
    "    plt.plot(hist.history[\"val_accuracy\"], color = \"orange\", label = \"valid acc\")\n",
    "    plt.legend()\n",
    "    plt.xlabel(\"epochs\");"
   ]
  },
  {
   "cell_type": "code",
   "execution_count": 36,
   "id": "d1610e3d",
   "metadata": {
    "scrolled": false
   },
   "outputs": [
    {
     "name": "stdout",
     "output_type": "stream",
     "text": [
      "Model: \"model\"\n",
      "_________________________________________________________________\n",
      "Layer (type)                 Output Shape              Param #   \n",
      "=================================================================\n",
      "input_1 (InputLayer)         [(None, 186)]             0         \n",
      "_________________________________________________________________\n",
      "embedding (Embedding)        (None, 186, 128)          1280000   \n",
      "_________________________________________________________________\n",
      "lstm (LSTM)                  (None, 186, 50)           35800     \n",
      "_________________________________________________________________\n",
      "flatten (Flatten)            (None, 9300)              0         \n",
      "_________________________________________________________________\n",
      "dropout (Dropout)            (None, 9300)              0         \n",
      "_________________________________________________________________\n",
      "dense (Dense)                (None, 32)                297632    \n",
      "=================================================================\n",
      "Total params: 1,613,432\n",
      "Trainable params: 1,613,432\n",
      "Non-trainable params: 0\n",
      "_________________________________________________________________\n",
      "Epoch 1/4\n",
      "569/569 [==============================] - 10s 14ms/step - loss: 0.2993 - accuracy: 0.3526 - val_loss: 0.1893 - val_accuracy: 0.3443\n",
      "Epoch 2/4\n",
      "569/569 [==============================] - 8s 14ms/step - loss: 0.1812 - accuracy: 0.3745 - val_loss: 0.1664 - val_accuracy: 0.4295\n",
      "Epoch 3/4\n",
      "569/569 [==============================] - 8s 13ms/step - loss: 0.1540 - accuracy: 0.4746 - val_loss: 0.1583 - val_accuracy: 0.4362\n",
      "Epoch 4/4\n",
      "569/569 [==============================] - 8s 14ms/step - loss: 0.1403 - accuracy: 0.4962 - val_loss: 0.1548 - val_accuracy: 0.4433\n"
     ]
    },
    {
     "data": {
      "image/png": "[encoded data removed]",
      "text/plain": [
       "<Figure size 720x540 with 1 Axes>"
      ]
     },
     "metadata": {
      "needs_background": "light"
     },
     "output_type": "display_data"
    }
   ],
   "source": [
    "# model definition 10k vocab\n",
    "model_input = Input(shape = [X_pad_len])\n",
    "\n",
    "emb = Embedding(input_dim = VOCAB_SIZE, output_dim = 128)(model_input)\n",
    "sLSTM = LSTM(50, activation = 'tanh', kernel_initializer = 'he_normal',\n",
    "             return_sequences = True, activity_regularizer=l1(0.001))(emb)\n",
    "flat = Flatten()(sLSTM)\n",
    "do = Dropout(0.3)(flat)\n",
    "model_output = Dense(num_genres, activation = \"sigmoid\")(do)\n",
    "\n",
    "model1 = Model(model_input, model_output)\n",
    "\n",
    "model1.compile(optimizer='adam', loss = 'binary_crossentropy', metrics = ['accuracy'])\n",
    "\n",
    "model1.summary()\n",
    "\n",
    "callback = tf.keras.callbacks.EarlyStopping(monitor='val_accuracy', patience=3)\n",
    "hist1 = model1.fit(X_train, y_train, batch_size=64, epochs=4, validation_data = (X_valid, y_valid),\n",
    "                  callbacks = [callback])\n",
    "plot_hist(hist1)"
   ]
  },
  {
   "cell_type": "code",
   "execution_count": 37,
   "id": "1c5afcc4",
   "metadata": {},
   "outputs": [],
   "source": [
    "def test_pred(model, tok, conf_threshold = 0.3):\n",
    "    title = input(\"insert title please:\\n\")\n",
    "    description = input(\"insert description please:\\n\")\n",
    "    merged_desc = str(title)+\" \"+str(description)\n",
    "    tok_inp = tok.texts_to_sequences([merged_desc])\n",
    "    pad_inp = pad_sequences(tok_inp, maxlen=model1.input_shape[1], padding='post', truncating='post')\n",
    "    pred = np.array(model1.predict(pad_inp)).flatten()\n",
    "    pred_g = np.argwhere(pred>conf_threshold).flatten()\n",
    "    if len(pred_g)==0:\n",
    "        pred_g = np.argmax(pred).flatten()\n",
    "    print()\n",
    "    for g in pred_g:\n",
    "        print(id_genres_dict[g])"
   ]
  },
  {
   "cell_type": "code",
   "execution_count": 38,
   "id": "ec54ac74",
   "metadata": {},
   "outputs": [
    {
     "name": "stdout",
     "output_type": "stream",
     "text": [
      "insert title please:\n",
      "kill everyone\n",
      "insert description please:\n",
      "serial kill seeking vengeance\n",
      "\n",
      "Thriller\n"
     ]
    }
   ],
   "source": [
    "test_pred(model1, tok)"
   ]
  },
  {
   "cell_type": "code",
   "execution_count": 39,
   "id": "242950e2",
   "metadata": {},
   "outputs": [
    {
     "name": "stdout",
     "output_type": "stream",
     "text": [
      "insert title please:\n",
      "love me baby!!\n",
      "insert description please:\n",
      "love story for teenagers and families\n",
      "\n",
      "Drama\n",
      "Comedy\n"
     ]
    }
   ],
   "source": [
    "test_pred(model1, tok)"
   ]
  },
  {
   "cell_type": "code",
   "execution_count": 40,
   "id": "f69efb43",
   "metadata": {},
   "outputs": [
    {
     "name": "stdout",
     "output_type": "stream",
     "text": [
      "insert title please:\n",
      "eevee the amazing cat\n",
      "insert description please:\n",
      "a wonderful cat and her adventure while conquering the worlfd\n",
      "\n",
      "Comedy\n",
      "Family\n"
     ]
    }
   ],
   "source": [
    "test_pred(model1, tok)"
   ]
  },
  {
   "cell_type": "markdown",
   "id": "ef89b681",
   "metadata": {},
   "source": [
    "## 4) Serialize Models\n",
    "Store trained model and tokenizer on disk."
   ]
  },
  {
   "cell_type": "code",
   "execution_count": 41,
   "id": "449623ee",
   "metadata": {},
   "outputs": [],
   "source": [
    "from tensorflow import keras"
   ]
  },
  {
   "cell_type": "code",
   "execution_count": 42,
   "id": "8ec0bb70",
   "metadata": {},
   "outputs": [
    {
     "name": "stderr",
     "output_type": "stream",
     "text": [
      "WARNING:absl:Found untraced functions such as lstm_cell_layer_call_fn, lstm_cell_layer_call_and_return_conditional_losses, lstm_cell_layer_call_fn, lstm_cell_layer_call_and_return_conditional_losses, lstm_cell_layer_call_and_return_conditional_losses while saving (showing 5 of 5). These functions will not be directly callable after loading.\n",
      "WARNING:absl:Found untraced functions such as lstm_cell_layer_call_fn, lstm_cell_layer_call_and_return_conditional_losses, lstm_cell_layer_call_fn, lstm_cell_layer_call_and_return_conditional_losses, lstm_cell_layer_call_and_return_conditional_losses while saving (showing 5 of 5). These functions will not be directly callable after loading.\n"
     ]
    },
    {
     "name": "stdout",
     "output_type": "stream",
     "text": [
      "INFO:tensorflow:Assets written to: ../models/model1_1623170131_5833135/assets\n"
     ]
    },
    {
     "name": "stderr",
     "output_type": "stream",
     "text": [
      "INFO:tensorflow:Assets written to: ../models/model1_1623170131_5833135/assets\n"
     ]
    }
   ],
   "source": [
    "models_folder = \"../models/\"\n",
    "if not os.path.exists(models_folder):\n",
    "    os.makedirs(models_folder)\n",
    "    \n",
    "model_path = os.path.join(models_folder, \"model1_{}\".format(str(time.time()).replace(\".\", \"_\")))\n",
    "model1.save(model_path)"
   ]
  },
  {
   "cell_type": "code",
   "execution_count": 43,
   "id": "c3f6e6e4",
   "metadata": {},
   "outputs": [],
   "source": [
    "tok_name = \"tok_{}\".format(str(time.time()).replace(\".\", \"_\"))\n",
    "tok_path = os.path.join(models_folder, tok_name)\n",
    "# saving\n",
    "with open(tok_path, 'wb') as f:\n",
    "    pickle.dump(tok, f, protocol=pickle.HIGHEST_PROTOCOL)"
   ]
  },
  {
   "cell_type": "code",
   "execution_count": 44,
   "id": "356b1f4c",
   "metadata": {},
   "outputs": [],
   "source": [
    "# test load models\n",
    "models_folder = \"../models\"\n",
    "tok_name = \"tok_1623165732_332077\"\n",
    "tok_path = os.path.join(models_folder, tok_name)\n",
    "\n",
    "with open(tok_path, 'rb') as f:\n",
    "    loaded_tok = pickle.load(f)\n",
    "\n",
    "model_name = \"model1_1623165604_9715395\"\n",
    "model_path = os.path.join(models_folder, model_name)\n",
    "\n",
    "loaded_model1 = keras.models.load_model(model_path)"
   ]
  },
  {
   "cell_type": "code",
   "execution_count": 45,
   "id": "d3f42149",
   "metadata": {},
   "outputs": [
    {
     "name": "stdout",
     "output_type": "stream",
     "text": [
      "insert title please:\n",
      "test music\n",
      "insert description please:\n",
      "musical bands songs test\n",
      "\n",
      "Comedy\n",
      "Family\n",
      "Documentary\n",
      "Music\n"
     ]
    }
   ],
   "source": [
    "test_pred(loaded_model1, loaded_tok)"
   ]
  },
  {
   "cell_type": "markdown",
   "id": "61516410",
   "metadata": {},
   "source": [
    "## Test Wrapper\n",
    "required libraries: (py3), (os), pickle, tensorflow, numpy"
   ]
  },
  {
   "cell_type": "code",
   "execution_count": 46,
   "id": "1f7a6d22",
   "metadata": {},
   "outputs": [],
   "source": [
    "import os\n",
    "import pickle\n",
    "from tensorflow import keras\n",
    "from tensorflow.keras.preprocessing.sequence import pad_sequences\n",
    "import numpy as np\n",
    "os.environ[\"TF_FORCE_GPU_ALLOW_GROWTH\"]=\"true\""
   ]
  },
  {
   "cell_type": "code",
   "execution_count": 47,
   "id": "9bf662f9",
   "metadata": {},
   "outputs": [],
   "source": [
    "def test_pred(model, tok, conf_threshold = 0.3):\n",
    "    cont = 'y'\n",
    "    while cont!='n':\n",
    "        title = input(\"insert title please:\\n\")\n",
    "        description = input(\"insert description please:\\n\")\n",
    "        merged_desc = str(title)+\" \"+str(description)\n",
    "        tok_inp = tok.texts_to_sequences([merged_desc])\n",
    "        pad_inp = pad_sequences(tok_inp, maxlen=model.input_shape[1], padding='post', truncating='post')\n",
    "        pred = np.array(model.predict(pad_inp)).flatten()\n",
    "        pred_g = np.argwhere(pred>conf_threshold).flatten()\n",
    "        if len(pred_g)==0:\n",
    "            pred_g = np.argmax(pred).flatten()\n",
    "        print()\n",
    "        genres = \"\"\n",
    "        for g in pred_g:\n",
    "            genres+=\"{}, \".format(id_genres_dict[g])\n",
    "        genres = genres[:-2]\n",
    "        out_dict = {\"title\": title, \"description\": description, \"genre\": genres}\n",
    "        print(out_dict)\n",
    "        cont = None\n",
    "        while cont not in [\"y\", \"n\"]:\n",
    "            cont = input(\"continue? [y/n]\\n\")"
   ]
  },
  {
   "cell_type": "code",
   "execution_count": 50,
   "id": "517a895a",
   "metadata": {},
   "outputs": [
    {
     "name": "stdout",
     "output_type": "stream",
     "text": [
      "insert title please:\n",
      "the super pickle model\n",
      "insert description please:\n",
      "an amazing pickle with super powers fighting every machine learning problem\n",
      "\n",
      "{'title': 'the super pickle model', 'description': 'an amazing pickle with super powers fighting every machine learning problem', 'genre': 'Animation, Comedy, Family'}\n",
      "continue? [y/n]\n",
      "n\n"
     ]
    }
   ],
   "source": [
    "# load models\n",
    "models_folder = \"../models\"\n",
    "tok_name = \"tok_1623170133_8569906\"\n",
    "tok_path = os.path.join(models_folder, tok_name)\n",
    "\n",
    "aux_folder = \"./aux/\"\n",
    "\n",
    "with open(tok_path, 'rb') as f:\n",
    "    loaded_tok = pickle.load(f)\n",
    "\n",
    "# load genres dict\n",
    "with open(os.path.join(aux_folder, \"id_genres_dict_1623170035_963645.pkl\"), 'rb') as f:\n",
    "    id_genres_dict = pickle.load(f)\n",
    "\n",
    "model_name = \"model1_1623170131_5833135\"\n",
    "model_path = os.path.join(models_folder, model_name)\n",
    "\n",
    "loaded_model1 = keras.models.load_model(model_path)\n",
    "\n",
    "test_pred(loaded_model1, loaded_tok)"
   ]
  }
 ],
 "metadata": {
  "kernelspec": {
   "display_name": "amz",
   "language": "python",
   "name": "amz"
  },
  "language_info": {
   "codemirror_mode": {
    "name": "ipython",
    "version": 3
   },
   "file_extension": ".py",
   "mimetype": "text/x-python",
   "name": "python",
   "nbconvert_exporter": "python",
   "pygments_lexer": "ipython3",
   "version": "3.8.8"
  }
 },
 "nbformat": 4,
 "nbformat_minor": 5
}
